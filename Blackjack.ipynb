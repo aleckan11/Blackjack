{
 "cells": [
  {
   "cell_type": "code",
   "execution_count": 225,
   "metadata": {},
   "outputs": [],
   "source": [
    "from thpoker.core import *\n",
    "from thpoker.hardcore import hcards, chcombo\n",
    "import numpy as np\n",
    "import pandas as pd\n",
    "import os\n",
    "import sys\n",
    "import collections\n",
    "import matplotlib.pyplot as plt\n",
    "from matplotlib import cm"
   ]
  },
  {
   "cell_type": "code",
   "execution_count": 2,
   "metadata": {},
   "outputs": [
    {
     "name": "stdout",
     "output_type": "stream",
     "text": [
      "A♠ Ace of spades\n"
     ]
    }
   ],
   "source": [
    "card = Card('As')\n",
    "print(card, card.name)"
   ]
  },
  {
   "cell_type": "code",
   "execution_count": 3,
   "metadata": {},
   "outputs": [],
   "source": [
    "deck = Deck()"
   ]
  },
  {
   "cell_type": "code",
   "execution_count": 4,
   "metadata": {},
   "outputs": [],
   "source": [
    "cards = Cards()"
   ]
  },
  {
   "cell_type": "code",
   "execution_count": 5,
   "metadata": {},
   "outputs": [],
   "source": [
    "cards.pull(deck, 5)"
   ]
  },
  {
   "cell_type": "code",
   "execution_count": 12,
   "metadata": {},
   "outputs": [],
   "source": [
    "class Shoe(Deck):\n",
    "    def __init__(self, size):\n",
    "        self.refresh(size)\n",
    "    def refresh(self, size):\n",
    "        self.cards = [Card(w + s) for w in Card.Weight.symbols[1:] for s in Card.Suit.symbols for i in range(size)]"
   ]
  },
  {
   "cell_type": "code",
   "execution_count": 1212,
   "metadata": {},
   "outputs": [],
   "source": [
    "shoe = Shoe(7)"
   ]
  },
  {
   "cell_type": "code",
   "execution_count": 36,
   "metadata": {},
   "outputs": [],
   "source": [
    "cards.pull(shoe, 5)"
   ]
  },
  {
   "cell_type": "code",
   "execution_count": 38,
   "metadata": {},
   "outputs": [
    {
     "data": {
      "text/plain": [
       "[2♣, 2♣, 2♣, 2♣, 2♣, 2♣, 2♣, 2♦, 2♦, 2♦, 2♦, 2♦, 2♦, 2♦, 2♥, 2♥, 2♥, 2♥, 2♥, 2♥, 2♥, 2♠, 2♠, 2♠, 2♠, 2♠, 2♠, 2♠, 3♣, 3♣, 3♣, 3♣, 3♣, 3♣, 3♣, 3♦, 3♦, 3♦, 3♦, 3♦, 3♦, 3♦, 3♥, 3♥, 3♥, 3♥, 3♥, 3♥, 3♥, 3♠, 3♠, 3♠, 3♠, 3♠, 3♠, 4♣, 4♣, 4♣, 4♣, 4♣, 4♣, 4♣, 4♦, 4♦, 4♦, 4♦, 4♦, 4♦, 4♦, 4♥, 4♥, 4♥, 4♥, 4♥, 4♥, 4♥, 4♠, 4♠, 4♠, 4♠, 4♠, 4♠, 4♠, 5♣, 5♣, 5♣, 5♣, 5♣, 5♣, 5♦, 5♦, 5♦, 5♦, 5♦, 5♦, 5♦, 5♥, 5♥, 5♥, 5♥, 5♥, 5♥, 5♥, 5♠, 5♠, 5♠, 5♠, 5♠, 5♠, 5♠, 6♣, 6♣, 6♣, 6♣, 6♣, 6♣, 6♣, 6♦, 6♦, 6♦, 6♦, 6♦, 6♦, 6♦, 6♥, 6♥, 6♥, 6♥, 6♥, 6♥, 6♥, 6♠, 6♠, 6♠, 6♠, 6♠, 6♠, 6♠, 7♣, 7♣, 7♣, 7♣, 7♣, 7♣, 7♣, 7♦, 7♦, 7♦, 7♦, 7♦, 7♦, 7♦, 7♥, 7♥, 7♥, 7♥, 7♥, 7♥, 7♥, 7♠, 7♠, 7♠, 7♠, 7♠, 7♠, 7♠, 8♣, 8♣, 8♣, 8♣, 8♣, 8♣, 8♣, 8♦, 8♦, 8♦, 8♦, 8♦, 8♦, 8♦, 8♥, 8♥, 8♥, 8♥, 8♥, 8♥, 8♥, 8♠, 8♠, 8♠, 8♠, 8♠, 8♠, 8♠, 9♣, 9♣, 9♣, 9♣, 9♣, 9♣, 9♣, 9♦, 9♦, 9♦, 9♦, 9♦, 9♦, 9♦, 9♥, 9♥, 9♥, 9♥, 9♥, 9♥, 9♥, 9♠, 9♠, 9♠, 9♠, 9♠, 9♠, 9♠, T♣, T♣, T♣, T♣, T♣, T♣, T♦, T♦, T♦, T♦, T♦, T♦, T♦, T♥, T♥, T♥, T♥, T♥, T♥, T♥, T♠, T♠, T♠, T♠, T♠, T♠, T♠, J♣, J♣, J♣, J♣, J♣, J♣, J♣, J♦, J♦, J♦, J♦, J♦, J♦, J♦, J♥, J♥, J♥, J♥, J♥, J♥, J♠, J♠, J♠, J♠, J♠, J♠, J♠, Q♣, Q♣, Q♣, Q♣, Q♣, Q♣, Q♣, Q♦, Q♦, Q♦, Q♦, Q♦, Q♦, Q♦, Q♥, Q♥, Q♥, Q♥, Q♥, Q♥, Q♥, Q♠, Q♠, Q♠, Q♠, Q♠, Q♠, Q♠, K♣, K♣, K♣, K♣, K♣, K♣, K♣, K♦, K♦, K♦, K♦, K♦, K♦, K♦, K♥, K♥, K♥, K♥, K♥, K♥, K♥, K♠, K♠, K♠, K♠, K♠, K♠, K♠, A♣, A♣, A♣, A♣, A♣, A♣, A♣, A♦, A♦, A♦, A♦, A♦, A♦, A♥, A♥, A♥, A♥, A♥, A♥, A♥, A♠, A♠, A♠, A♠, A♠, A♠, A♠]"
      ]
     },
     "execution_count": 38,
     "metadata": {},
     "output_type": "execute_result"
    }
   ],
   "source": [
    "shoe"
   ]
  },
  {
   "cell_type": "code",
   "execution_count": 130,
   "metadata": {},
   "outputs": [],
   "source": [
    "Player = Cards()\n",
    "Dealer = Cards()"
   ]
  },
  {
   "cell_type": "code",
   "execution_count": 951,
   "metadata": {},
   "outputs": [],
   "source": [
    "class value():\n",
    "    def __init__(self, cards, split = False):\n",
    "        self.cards = [x.weight for x in cards.items]\n",
    "        self.blackjack = False\n",
    "        self.soft = False\n",
    "        self.pair = False\n",
    "        self.val = self.val_calc()\n",
    "    def val_calc(self):\n",
    "        total = 0\n",
    "        if len(self.cards) in [1, 2] and self.cards[0] == self.cards[1]:\n",
    "            self.pair = True\n",
    "        for i in self.cards:\n",
    "            i = str(i)\n",
    "            if i not in ['A','K','Q','J','T']:\n",
    "                total += int(i)\n",
    "            elif i in ['K','Q','J','T']:\n",
    "                total += 10\n",
    "        for i in self.cards:\n",
    "            i = str(i)\n",
    "            if i == 'A':\n",
    "                self.soft = True\n",
    "                if total > 10:\n",
    "                    total += 1\n",
    "                else:\n",
    "                    total += 11\n",
    "        if len(self.cards) == 2 and total == 21 and self.pair == False:\n",
    "            self.blackjack = True\n",
    "        if total > 21:\n",
    "            return -1\n",
    "        return total\n",
    "    def __str__(self):\n",
    "        return str(self.val)\n",
    "    def __repr__(self):\n",
    "        return str(self.val)"
   ]
  },
  {
   "cell_type": "code",
   "execution_count": 404,
   "metadata": {},
   "outputs": [
    {
     "data": {
      "text/plain": [
       "11"
      ]
     },
     "execution_count": 404,
     "metadata": {},
     "output_type": "execute_result"
    }
   ],
   "source": [
    "int(str(value(cards)))+12"
   ]
  },
  {
   "cell_type": "code",
   "execution_count": 239,
   "metadata": {},
   "outputs": [],
   "source": [
    "basic_hard = pd.read_csv('basic_hard.csv').set_index('Hard')\n",
    "basic_soft = pd.read_csv('basic_soft.csv').set_index('Soft')\n",
    "basic_split = pd.read_csv('basic_split.csv').set_index('Pair')"
   ]
  },
  {
   "cell_type": "code",
   "execution_count": 249,
   "metadata": {},
   "outputs": [
    {
     "data": {
      "text/html": [
       "<div>\n",
       "<style scoped>\n",
       "    .dataframe tbody tr th:only-of-type {\n",
       "        vertical-align: middle;\n",
       "    }\n",
       "\n",
       "    .dataframe tbody tr th {\n",
       "        vertical-align: top;\n",
       "    }\n",
       "\n",
       "    .dataframe thead th {\n",
       "        text-align: right;\n",
       "    }\n",
       "</style>\n",
       "<table border=\"1\" class=\"dataframe\">\n",
       "  <thead>\n",
       "    <tr style=\"text-align: right;\">\n",
       "      <th></th>\n",
       "      <th>2</th>\n",
       "      <th>3</th>\n",
       "      <th>4</th>\n",
       "      <th>5</th>\n",
       "      <th>6</th>\n",
       "      <th>7</th>\n",
       "      <th>8</th>\n",
       "      <th>9</th>\n",
       "      <th>T</th>\n",
       "      <th>J</th>\n",
       "      <th>Q</th>\n",
       "      <th>K</th>\n",
       "      <th>A</th>\n",
       "    </tr>\n",
       "    <tr>\n",
       "      <th>Pair</th>\n",
       "      <th></th>\n",
       "      <th></th>\n",
       "      <th></th>\n",
       "      <th></th>\n",
       "      <th></th>\n",
       "      <th></th>\n",
       "      <th></th>\n",
       "      <th></th>\n",
       "      <th></th>\n",
       "      <th></th>\n",
       "      <th></th>\n",
       "      <th></th>\n",
       "      <th></th>\n",
       "    </tr>\n",
       "  </thead>\n",
       "  <tbody>\n",
       "    <tr>\n",
       "      <th>2</th>\n",
       "      <td>Y</td>\n",
       "      <td>Y</td>\n",
       "      <td>Y</td>\n",
       "      <td>Y</td>\n",
       "      <td>Y</td>\n",
       "      <td>Y</td>\n",
       "      <td>N</td>\n",
       "      <td>N</td>\n",
       "      <td>N</td>\n",
       "      <td>N</td>\n",
       "      <td>N</td>\n",
       "      <td>N</td>\n",
       "      <td>N</td>\n",
       "    </tr>\n",
       "    <tr>\n",
       "      <th>3</th>\n",
       "      <td>Y</td>\n",
       "      <td>Y</td>\n",
       "      <td>Y</td>\n",
       "      <td>Y</td>\n",
       "      <td>Y</td>\n",
       "      <td>Y</td>\n",
       "      <td>N</td>\n",
       "      <td>N</td>\n",
       "      <td>N</td>\n",
       "      <td>N</td>\n",
       "      <td>N</td>\n",
       "      <td>N</td>\n",
       "      <td>N</td>\n",
       "    </tr>\n",
       "    <tr>\n",
       "      <th>4</th>\n",
       "      <td>N</td>\n",
       "      <td>N</td>\n",
       "      <td>N</td>\n",
       "      <td>Y</td>\n",
       "      <td>Y</td>\n",
       "      <td>N</td>\n",
       "      <td>N</td>\n",
       "      <td>N</td>\n",
       "      <td>N</td>\n",
       "      <td>N</td>\n",
       "      <td>N</td>\n",
       "      <td>N</td>\n",
       "      <td>N</td>\n",
       "    </tr>\n",
       "    <tr>\n",
       "      <th>5</th>\n",
       "      <td>N</td>\n",
       "      <td>N</td>\n",
       "      <td>N</td>\n",
       "      <td>N</td>\n",
       "      <td>N</td>\n",
       "      <td>N</td>\n",
       "      <td>N</td>\n",
       "      <td>N</td>\n",
       "      <td>N</td>\n",
       "      <td>N</td>\n",
       "      <td>N</td>\n",
       "      <td>N</td>\n",
       "      <td>N</td>\n",
       "    </tr>\n",
       "    <tr>\n",
       "      <th>6</th>\n",
       "      <td>Y</td>\n",
       "      <td>Y</td>\n",
       "      <td>Y</td>\n",
       "      <td>Y</td>\n",
       "      <td>Y</td>\n",
       "      <td>N</td>\n",
       "      <td>N</td>\n",
       "      <td>N</td>\n",
       "      <td>N</td>\n",
       "      <td>N</td>\n",
       "      <td>N</td>\n",
       "      <td>N</td>\n",
       "      <td>N</td>\n",
       "    </tr>\n",
       "    <tr>\n",
       "      <th>7</th>\n",
       "      <td>Y</td>\n",
       "      <td>Y</td>\n",
       "      <td>Y</td>\n",
       "      <td>Y</td>\n",
       "      <td>Y</td>\n",
       "      <td>Y</td>\n",
       "      <td>N</td>\n",
       "      <td>N</td>\n",
       "      <td>N</td>\n",
       "      <td>N</td>\n",
       "      <td>N</td>\n",
       "      <td>N</td>\n",
       "      <td>N</td>\n",
       "    </tr>\n",
       "    <tr>\n",
       "      <th>8</th>\n",
       "      <td>Y</td>\n",
       "      <td>Y</td>\n",
       "      <td>Y</td>\n",
       "      <td>Y</td>\n",
       "      <td>Y</td>\n",
       "      <td>Y</td>\n",
       "      <td>Y</td>\n",
       "      <td>Y</td>\n",
       "      <td>Y</td>\n",
       "      <td>Y</td>\n",
       "      <td>Y</td>\n",
       "      <td>Y</td>\n",
       "      <td>Y</td>\n",
       "    </tr>\n",
       "    <tr>\n",
       "      <th>9</th>\n",
       "      <td>Y</td>\n",
       "      <td>Y</td>\n",
       "      <td>Y</td>\n",
       "      <td>Y</td>\n",
       "      <td>Y</td>\n",
       "      <td>N</td>\n",
       "      <td>Y</td>\n",
       "      <td>Y</td>\n",
       "      <td>N</td>\n",
       "      <td>N</td>\n",
       "      <td>N</td>\n",
       "      <td>N</td>\n",
       "      <td>N</td>\n",
       "    </tr>\n",
       "    <tr>\n",
       "      <th>T</th>\n",
       "      <td>N</td>\n",
       "      <td>N</td>\n",
       "      <td>N</td>\n",
       "      <td>N</td>\n",
       "      <td>N</td>\n",
       "      <td>N</td>\n",
       "      <td>N</td>\n",
       "      <td>N</td>\n",
       "      <td>N</td>\n",
       "      <td>N</td>\n",
       "      <td>N</td>\n",
       "      <td>N</td>\n",
       "      <td>N</td>\n",
       "    </tr>\n",
       "    <tr>\n",
       "      <th>J</th>\n",
       "      <td>N</td>\n",
       "      <td>N</td>\n",
       "      <td>N</td>\n",
       "      <td>N</td>\n",
       "      <td>N</td>\n",
       "      <td>N</td>\n",
       "      <td>N</td>\n",
       "      <td>N</td>\n",
       "      <td>N</td>\n",
       "      <td>N</td>\n",
       "      <td>N</td>\n",
       "      <td>N</td>\n",
       "      <td>N</td>\n",
       "    </tr>\n",
       "    <tr>\n",
       "      <th>Q</th>\n",
       "      <td>N</td>\n",
       "      <td>N</td>\n",
       "      <td>N</td>\n",
       "      <td>N</td>\n",
       "      <td>N</td>\n",
       "      <td>N</td>\n",
       "      <td>N</td>\n",
       "      <td>N</td>\n",
       "      <td>N</td>\n",
       "      <td>N</td>\n",
       "      <td>N</td>\n",
       "      <td>N</td>\n",
       "      <td>N</td>\n",
       "    </tr>\n",
       "    <tr>\n",
       "      <th>K</th>\n",
       "      <td>N</td>\n",
       "      <td>N</td>\n",
       "      <td>N</td>\n",
       "      <td>N</td>\n",
       "      <td>N</td>\n",
       "      <td>N</td>\n",
       "      <td>N</td>\n",
       "      <td>N</td>\n",
       "      <td>N</td>\n",
       "      <td>N</td>\n",
       "      <td>N</td>\n",
       "      <td>N</td>\n",
       "      <td>N</td>\n",
       "    </tr>\n",
       "    <tr>\n",
       "      <th>A</th>\n",
       "      <td>Y</td>\n",
       "      <td>Y</td>\n",
       "      <td>Y</td>\n",
       "      <td>Y</td>\n",
       "      <td>Y</td>\n",
       "      <td>Y</td>\n",
       "      <td>Y</td>\n",
       "      <td>Y</td>\n",
       "      <td>Y</td>\n",
       "      <td>Y</td>\n",
       "      <td>Y</td>\n",
       "      <td>Y</td>\n",
       "      <td>Y</td>\n",
       "    </tr>\n",
       "  </tbody>\n",
       "</table>\n",
       "</div>"
      ],
      "text/plain": [
       "      2  3  4  5  6  7  8  9  T  J  Q  K  A\n",
       "Pair                                       \n",
       "2     Y  Y  Y  Y  Y  Y  N  N  N  N  N  N  N\n",
       "3     Y  Y  Y  Y  Y  Y  N  N  N  N  N  N  N\n",
       "4     N  N  N  Y  Y  N  N  N  N  N  N  N  N\n",
       "5     N  N  N  N  N  N  N  N  N  N  N  N  N\n",
       "6     Y  Y  Y  Y  Y  N  N  N  N  N  N  N  N\n",
       "7     Y  Y  Y  Y  Y  Y  N  N  N  N  N  N  N\n",
       "8     Y  Y  Y  Y  Y  Y  Y  Y  Y  Y  Y  Y  Y\n",
       "9     Y  Y  Y  Y  Y  N  Y  Y  N  N  N  N  N\n",
       "T     N  N  N  N  N  N  N  N  N  N  N  N  N\n",
       "J     N  N  N  N  N  N  N  N  N  N  N  N  N\n",
       "Q     N  N  N  N  N  N  N  N  N  N  N  N  N\n",
       "K     N  N  N  N  N  N  N  N  N  N  N  N  N\n",
       "A     Y  Y  Y  Y  Y  Y  Y  Y  Y  Y  Y  Y  Y"
      ]
     },
     "execution_count": 249,
     "metadata": {},
     "output_type": "execute_result"
    }
   ],
   "source": [
    "basic_split"
   ]
  },
  {
   "cell_type": "code",
   "execution_count": 408,
   "metadata": {},
   "outputs": [
    {
     "data": {
      "text/html": [
       "<div>\n",
       "<style scoped>\n",
       "    .dataframe tbody tr th:only-of-type {\n",
       "        vertical-align: middle;\n",
       "    }\n",
       "\n",
       "    .dataframe tbody tr th {\n",
       "        vertical-align: top;\n",
       "    }\n",
       "\n",
       "    .dataframe thead th {\n",
       "        text-align: right;\n",
       "    }\n",
       "</style>\n",
       "<table border=\"1\" class=\"dataframe\">\n",
       "  <thead>\n",
       "    <tr style=\"text-align: right;\">\n",
       "      <th></th>\n",
       "      <th>2</th>\n",
       "      <th>3</th>\n",
       "      <th>4</th>\n",
       "      <th>5</th>\n",
       "      <th>6</th>\n",
       "      <th>7</th>\n",
       "      <th>8</th>\n",
       "      <th>9</th>\n",
       "      <th>T</th>\n",
       "      <th>J</th>\n",
       "      <th>Q</th>\n",
       "      <th>K</th>\n",
       "      <th>A</th>\n",
       "    </tr>\n",
       "    <tr>\n",
       "      <th>Soft</th>\n",
       "      <th></th>\n",
       "      <th></th>\n",
       "      <th></th>\n",
       "      <th></th>\n",
       "      <th></th>\n",
       "      <th></th>\n",
       "      <th></th>\n",
       "      <th></th>\n",
       "      <th></th>\n",
       "      <th></th>\n",
       "      <th></th>\n",
       "      <th></th>\n",
       "      <th></th>\n",
       "    </tr>\n",
       "  </thead>\n",
       "  <tbody>\n",
       "    <tr>\n",
       "      <th>12</th>\n",
       "      <td>H</td>\n",
       "      <td>H</td>\n",
       "      <td>H</td>\n",
       "      <td>H</td>\n",
       "      <td>H</td>\n",
       "      <td>H</td>\n",
       "      <td>H</td>\n",
       "      <td>H</td>\n",
       "      <td>H</td>\n",
       "      <td>H</td>\n",
       "      <td>H</td>\n",
       "      <td>H</td>\n",
       "      <td>H</td>\n",
       "    </tr>\n",
       "    <tr>\n",
       "      <th>13</th>\n",
       "      <td>H</td>\n",
       "      <td>H</td>\n",
       "      <td>H</td>\n",
       "      <td>H</td>\n",
       "      <td>D</td>\n",
       "      <td>H</td>\n",
       "      <td>H</td>\n",
       "      <td>H</td>\n",
       "      <td>H</td>\n",
       "      <td>H</td>\n",
       "      <td>H</td>\n",
       "      <td>H</td>\n",
       "      <td>H</td>\n",
       "    </tr>\n",
       "    <tr>\n",
       "      <th>14</th>\n",
       "      <td>H</td>\n",
       "      <td>H</td>\n",
       "      <td>H</td>\n",
       "      <td>D</td>\n",
       "      <td>D</td>\n",
       "      <td>H</td>\n",
       "      <td>H</td>\n",
       "      <td>H</td>\n",
       "      <td>H</td>\n",
       "      <td>H</td>\n",
       "      <td>H</td>\n",
       "      <td>H</td>\n",
       "      <td>H</td>\n",
       "    </tr>\n",
       "    <tr>\n",
       "      <th>15</th>\n",
       "      <td>H</td>\n",
       "      <td>H</td>\n",
       "      <td>H</td>\n",
       "      <td>D</td>\n",
       "      <td>D</td>\n",
       "      <td>H</td>\n",
       "      <td>H</td>\n",
       "      <td>H</td>\n",
       "      <td>H</td>\n",
       "      <td>H</td>\n",
       "      <td>H</td>\n",
       "      <td>H</td>\n",
       "      <td>H</td>\n",
       "    </tr>\n",
       "    <tr>\n",
       "      <th>16</th>\n",
       "      <td>H</td>\n",
       "      <td>H</td>\n",
       "      <td>D</td>\n",
       "      <td>D</td>\n",
       "      <td>D</td>\n",
       "      <td>H</td>\n",
       "      <td>H</td>\n",
       "      <td>H</td>\n",
       "      <td>H</td>\n",
       "      <td>H</td>\n",
       "      <td>H</td>\n",
       "      <td>H</td>\n",
       "      <td>H</td>\n",
       "    </tr>\n",
       "    <tr>\n",
       "      <th>17</th>\n",
       "      <td>H</td>\n",
       "      <td>D</td>\n",
       "      <td>D</td>\n",
       "      <td>D</td>\n",
       "      <td>D</td>\n",
       "      <td>H</td>\n",
       "      <td>H</td>\n",
       "      <td>H</td>\n",
       "      <td>H</td>\n",
       "      <td>H</td>\n",
       "      <td>H</td>\n",
       "      <td>H</td>\n",
       "      <td>H</td>\n",
       "    </tr>\n",
       "    <tr>\n",
       "      <th>18</th>\n",
       "      <td>S</td>\n",
       "      <td>D</td>\n",
       "      <td>D</td>\n",
       "      <td>D</td>\n",
       "      <td>D</td>\n",
       "      <td>S</td>\n",
       "      <td>S</td>\n",
       "      <td>H</td>\n",
       "      <td>H</td>\n",
       "      <td>H</td>\n",
       "      <td>H</td>\n",
       "      <td>H</td>\n",
       "      <td>H</td>\n",
       "    </tr>\n",
       "    <tr>\n",
       "      <th>19</th>\n",
       "      <td>S</td>\n",
       "      <td>S</td>\n",
       "      <td>S</td>\n",
       "      <td>S</td>\n",
       "      <td>S</td>\n",
       "      <td>S</td>\n",
       "      <td>S</td>\n",
       "      <td>S</td>\n",
       "      <td>S</td>\n",
       "      <td>S</td>\n",
       "      <td>S</td>\n",
       "      <td>S</td>\n",
       "      <td>S</td>\n",
       "    </tr>\n",
       "    <tr>\n",
       "      <th>20</th>\n",
       "      <td>S</td>\n",
       "      <td>S</td>\n",
       "      <td>S</td>\n",
       "      <td>S</td>\n",
       "      <td>S</td>\n",
       "      <td>S</td>\n",
       "      <td>S</td>\n",
       "      <td>S</td>\n",
       "      <td>S</td>\n",
       "      <td>S</td>\n",
       "      <td>S</td>\n",
       "      <td>S</td>\n",
       "      <td>S</td>\n",
       "    </tr>\n",
       "    <tr>\n",
       "      <th>21</th>\n",
       "      <td>S</td>\n",
       "      <td>S</td>\n",
       "      <td>S</td>\n",
       "      <td>S</td>\n",
       "      <td>S</td>\n",
       "      <td>S</td>\n",
       "      <td>S</td>\n",
       "      <td>S</td>\n",
       "      <td>S</td>\n",
       "      <td>S</td>\n",
       "      <td>S</td>\n",
       "      <td>S</td>\n",
       "      <td>S</td>\n",
       "    </tr>\n",
       "  </tbody>\n",
       "</table>\n",
       "</div>"
      ],
      "text/plain": [
       "      2  3  4  5  6  7  8  9  T  J  Q  K  A\n",
       "Soft                                       \n",
       "12    H  H  H  H  H  H  H  H  H  H  H  H  H\n",
       "13    H  H  H  H  D  H  H  H  H  H  H  H  H\n",
       "14    H  H  H  D  D  H  H  H  H  H  H  H  H\n",
       "15    H  H  H  D  D  H  H  H  H  H  H  H  H\n",
       "16    H  H  D  D  D  H  H  H  H  H  H  H  H\n",
       "17    H  D  D  D  D  H  H  H  H  H  H  H  H\n",
       "18    S  D  D  D  D  S  S  H  H  H  H  H  H\n",
       "19    S  S  S  S  S  S  S  S  S  S  S  S  S\n",
       "20    S  S  S  S  S  S  S  S  S  S  S  S  S\n",
       "21    S  S  S  S  S  S  S  S  S  S  S  S  S"
      ]
     },
     "execution_count": 408,
     "metadata": {},
     "output_type": "execute_result"
    }
   ],
   "source": [
    "basic_soft"
   ]
  },
  {
   "cell_type": "code",
   "execution_count": 406,
   "metadata": {},
   "outputs": [
    {
     "data": {
      "text/plain": [
       "Soft\n",
       "12    H\n",
       "13    H\n",
       "14    H\n",
       "15    H\n",
       "16    H\n",
       "17    H\n",
       "18    H\n",
       "19    S\n",
       "20    S\n",
       "21    S\n",
       "Name: T, dtype: object"
      ]
     },
     "execution_count": 406,
     "metadata": {},
     "output_type": "execute_result"
    }
   ],
   "source": [
    "basic_soft[str(test.dealer.items[0].weight)]"
   ]
  },
  {
   "cell_type": "code",
   "execution_count": 278,
   "metadata": {},
   "outputs": [
    {
     "data": {
      "text/plain": [
       "'d'"
      ]
     },
     "execution_count": 278,
     "metadata": {},
     "output_type": "execute_result"
    }
   ],
   "source": [
    "repr(test.player.items[0].suit)"
   ]
  },
  {
   "cell_type": "code",
   "execution_count": 298,
   "metadata": {},
   "outputs": [],
   "source": [
    "x = Cards(str(test.player.items[0].weight) + repr(test.player.items[0].suit))"
   ]
  },
  {
   "cell_type": "code",
   "execution_count": 300,
   "metadata": {},
   "outputs": [],
   "source": [
    "y = Cards()"
   ]
  },
  {
   "cell_type": "code",
   "execution_count": 301,
   "metadata": {},
   "outputs": [],
   "source": [
    "y.pull(shoe,1)"
   ]
  },
  {
   "cell_type": "code",
   "execution_count": 308,
   "metadata": {},
   "outputs": [],
   "source": [
    "x.items = x.items + y.items"
   ]
  },
  {
   "cell_type": "code",
   "execution_count": 309,
   "metadata": {},
   "outputs": [
    {
     "data": {
      "text/plain": [
       "[9♦, 6♦]"
      ]
     },
     "execution_count": 309,
     "metadata": {},
     "output_type": "execute_result"
    }
   ],
   "source": [
    "x"
   ]
  },
  {
   "cell_type": "code",
   "execution_count": 1206,
   "metadata": {},
   "outputs": [],
   "source": [
    "class Game():\n",
    "    def __init__(self, shoe, bet):\n",
    "        self.player = Cards()\n",
    "        self.dealer = Cards()\n",
    "        self.bet = bet\n",
    "        self.shoe = shoe\n",
    "        self.payout = []\n",
    "        self.relative_count = 0\n",
    "        self.splits = []\n",
    "        self.resplit_index = 0\n",
    "        self.win = []\n",
    "        self.total_bet = 0\n",
    "    def get_cards(self):\n",
    "        self.player.pull(self.shoe, 2)\n",
    "        self.dealer.pull(self.shoe, 2)\n",
    "    def count_cards(self):\n",
    "        for i in [x.weight for x in self.player.items]:\n",
    "            i = str(i)\n",
    "            if i in ['A','K','Q','J','T']:\n",
    "                self.relative_count -= 1\n",
    "            elif i in ['2','3','4','5','6']:\n",
    "                self.relative_count += 1\n",
    "        i = self.dealer.items[0].weight\n",
    "        i = str(i)\n",
    "        if i in ['A','K','Q','J','T']:\n",
    "            self.relative_count -= 1\n",
    "        elif i in ['2','3','4','5','6']:\n",
    "            self.relative_count += 1\n",
    "    def play_strategy(self):\n",
    "        my_value = value(self.player)\n",
    "        dealer_show = self.dealer.items[0].weight\n",
    "        dealer_val = value(self.dealer)\n",
    "        \n",
    "        if value(self.player).blackjack:\n",
    "            self.total_bet += self.bet\n",
    "            self.payout = [1.5*self.bet]\n",
    "            self.win = [1]\n",
    "            return\n",
    "        if value(self.dealer).blackjack or int(str(value(self.player))) == -1:\n",
    "            self.win = [0]\n",
    "            self.total_bet = self.bet\n",
    "            self.payout = [-1*self.bet]\n",
    "            return\n",
    "        if value(self.player).pair:\n",
    "            if basic_split[str(self.dealer.items[0].weight)][str(self.player.items[0].weight)] == 'Y':\n",
    "                self.split()\n",
    "                while (len(self.splits)) <= 4:\n",
    "                    again = False\n",
    "                    for i in range(len(self.splits)):\n",
    "                        if value(self.splits[i]).pair and \\\n",
    "                        basic_split[str(self.dealer.items[0].weight)][str(self.splits[i].items[0].weight)] == 'Y':\n",
    "                            self.resplit_index = i\n",
    "                            self.resplit()\n",
    "                            again = True\n",
    "                    if again == False:\n",
    "                        break\n",
    "                for i in self.splits:\n",
    "                    my_value = value(i)\n",
    "                    dealer_show = self.dealer.items[0].weight\n",
    "                    dealer_val = value(self.dealer)\n",
    "                    action = basic_hard[str(dealer_show)][int(str(my_value))]\n",
    "                    if my_value.soft:\n",
    "                        action = basic_soft[str(dealer_show)][int(str(my_value))]\n",
    "                        \n",
    "                    while action == 'H':\n",
    "                        x = Cards()\n",
    "                        x.pull(self.shoe,1)\n",
    "                        i.items += x.items\n",
    "                        my_value = value(i)\n",
    "                        if int(str(my_value)) == -1:\n",
    "                            break\n",
    "                        action = basic_hard[str(dealer_show)][int(str(my_value))]\n",
    "                        if my_value.soft:\n",
    "                            action = basic_soft[str(dealer_show)][int(str(my_value))]\n",
    "                    if action == 'D' and len(self.player.items) == 2:\n",
    "                        x = Cards()\n",
    "                        x.pull(self.shoe,1)\n",
    "                        i.items += x.items\n",
    "                        self.bet = 2*self.bet\n",
    "                        self.total_bet += 2*self.bet\n",
    "                    self.dealer_play()\n",
    "                    my_value = value(i)\n",
    "                    dealer_show = self.dealer.items[0].weight\n",
    "                    dealer_val = value(self.dealer)\n",
    "                    if int(str(dealer_val)) > int(str(my_value)):\n",
    "                        self.win += [0]\n",
    "                        self.payout += [-1*self.bet]\n",
    "                        self.total_bet += self.bet\n",
    "                    elif int(str(dealer_val)) < int(str(my_value)):\n",
    "                        self.win += [1]\n",
    "                        self.payout += [1*self.bet]\n",
    "                        self.total_bet += self.bet\n",
    "                return\n",
    "        \n",
    "        action = basic_hard[str(dealer_show)][int(str(my_value))]\n",
    "        if my_value.soft:\n",
    "            action = basic_soft[str(dealer_show)][int(str(my_value))]\n",
    "        if action == 'H':\n",
    "            self.hit()\n",
    "        if action == 'D' and len(self.player.items) == 2:\n",
    "            self.double()\n",
    "        self.dealer_play()\n",
    "        my_value = value(self.player)\n",
    "        dealer_show = self.dealer.items[0].weight\n",
    "        dealer_val = value(self.dealer)\n",
    "        if int(str(dealer_val)) > int(str(my_value)):\n",
    "            self.win = [0]\n",
    "            self.payout = [-1*self.bet]\n",
    "            self.total_bet = self.bet\n",
    "        elif int(str(dealer_val)) < int(str(my_value)):\n",
    "            self.win = [1]\n",
    "            self.payout = [1*self.bet]\n",
    "            self.total_bet = self.bet\n",
    "        return\n",
    "               \n",
    "    def dealer_play(self):\n",
    "        dealer_val = value(self.dealer)\n",
    "        if dealer_val.soft:\n",
    "            while(int(str(dealer_val)) <= 17 and int(str(dealer_val)) != -1):\n",
    "                x = Cards()\n",
    "                x.pull(self.shoe,1)\n",
    "                self.dealer.items += x.items\n",
    "                dealer_val = value(self.dealer)\n",
    "        else:\n",
    "            while(int(str(dealer_val)) < 17 and int(str(dealer_val)) != -1):\n",
    "                x = Cards()\n",
    "                x.pull(self.shoe,1)\n",
    "                self.dealer.items += x.items\n",
    "                dealer_val = value(self.dealer)\n",
    "    def hit(self):\n",
    "        x = Cards()\n",
    "        x.pull(self.shoe,1)\n",
    "        self.player.items += x.items\n",
    "        self.play_strategy()\n",
    "    def double(self):\n",
    "        x = Cards()\n",
    "        x.pull(self.shoe,1)\n",
    "        self.player.items += x.items\n",
    "        self.bet = 2*self.bet\n",
    "        self.total_bet += self.bet\n",
    "    def split(self):\n",
    "        x = Cards(str(self.player.items[0].weight) + repr(self.player.items[0].suit))\n",
    "        y = Cards()\n",
    "        y.pull(self.shoe,1)\n",
    "        x.items = x.items + y.items\n",
    "        self.splits.append(x)\n",
    "        \n",
    "        x = Cards(str(self.player.items[1].weight) + repr(self.player.items[1].suit))\n",
    "        y = Cards()\n",
    "        y.pull(self.shoe,1)\n",
    "        x.items = x.items + y.items\n",
    "        self.splits.append(x)\n",
    "        \n",
    "    def resplit(self):\n",
    "        x = Cards(str(self.splits[self.resplit_index].items[0].weight) + repr(self.splits[self.resplit_index].items[0].suit))\n",
    "        y = Cards()\n",
    "        y.pull(self.shoe,1)\n",
    "        x.items = x.items + y.items\n",
    "        self.splits.append(x)\n",
    "        \n",
    "        x = Cards(str(self.splits[self.resplit_index].items[1].weight) + repr(self.splits[self.resplit_index].items[1].suit))\n",
    "        y = Cards()\n",
    "        y.pull(self.shoe,1)\n",
    "        x.items = x.items + y.items\n",
    "        self.splits.append(x)\n",
    "        self.splits.pop(self.resplit_index)\n",
    "        "
   ]
  },
  {
   "cell_type": "code",
   "execution_count": 898,
   "metadata": {},
   "outputs": [
    {
     "data": {
      "text/plain": [
       "[2♣, 2♦, 2♥, 2♥, 3♣, 3♥, 3♥, 3♠, 4♣, 4♣, 4♦, 4♦, 4♥, 4♠, 5♣, 5♣, 5♦, 5♦, 5♦, 5♥, 5♥, 5♠, 5♠, 6♦, 6♥, 6♠, 6♠, 7♣, 7♣, 7♦, 7♥, 7♥, 7♠, 7♠, 7♠, 7♠, 8♣, 8♣, 8♦, 8♦, 8♥, 9♣, 9♣, 9♦, 9♥, 9♥, T♣, T♦, T♦, T♦, T♦, T♥, T♠, J♣, J♣, J♦, J♦, J♦, J♥, J♥, J♥, Q♣, Q♣, Q♦, Q♥, Q♥, Q♠, K♣, K♦, K♦, K♦, A♣, A♣, A♥, A♥, A♠, A♠, A♠]"
      ]
     },
     "execution_count": 898,
     "metadata": {},
     "output_type": "execute_result"
    }
   ],
   "source": [
    "test.shoe"
   ]
  },
  {
   "cell_type": "code",
   "execution_count": 855,
   "metadata": {},
   "outputs": [],
   "source": [
    "test = Game(shoe,1)"
   ]
  },
  {
   "cell_type": "code",
   "execution_count": 773,
   "metadata": {},
   "outputs": [],
   "source": [
    "test.get_cards()"
   ]
  },
  {
   "cell_type": "code",
   "execution_count": 774,
   "metadata": {},
   "outputs": [
    {
     "data": {
      "text/plain": [
       "[5♠, 6♦]"
      ]
     },
     "execution_count": 774,
     "metadata": {},
     "output_type": "execute_result"
    }
   ],
   "source": [
    "test.dealer"
   ]
  },
  {
   "cell_type": "code",
   "execution_count": 775,
   "metadata": {},
   "outputs": [
    {
     "data": {
      "text/plain": [
       "[K♠, 7♦]"
      ]
     },
     "execution_count": 775,
     "metadata": {},
     "output_type": "execute_result"
    }
   ],
   "source": [
    "test.player"
   ]
  },
  {
   "cell_type": "code",
   "execution_count": 718,
   "metadata": {},
   "outputs": [],
   "source": [
    "test.count_cards()"
   ]
  },
  {
   "cell_type": "code",
   "execution_count": 719,
   "metadata": {},
   "outputs": [
    {
     "data": {
      "text/plain": [
       "1"
      ]
     },
     "execution_count": 719,
     "metadata": {},
     "output_type": "execute_result"
    }
   ],
   "source": [
    "test.relative_count"
   ]
  },
  {
   "cell_type": "code",
   "execution_count": 458,
   "metadata": {},
   "outputs": [],
   "source": [
    "test.split()"
   ]
  },
  {
   "cell_type": "code",
   "execution_count": null,
   "metadata": {},
   "outputs": [],
   "source": [
    "test.player"
   ]
  },
  {
   "cell_type": "code",
   "execution_count": 552,
   "metadata": {},
   "outputs": [
    {
     "data": {
      "text/plain": [
       "[]"
      ]
     },
     "execution_count": 552,
     "metadata": {},
     "output_type": "execute_result"
    }
   ],
   "source": [
    "test.splits"
   ]
  },
  {
   "cell_type": "code",
   "execution_count": 461,
   "metadata": {},
   "outputs": [],
   "source": [
    "test.resplit()"
   ]
  },
  {
   "cell_type": "code",
   "execution_count": 462,
   "metadata": {},
   "outputs": [
    {
     "data": {
      "text/plain": [
       "[[J♥, Q♣], [J♠, 6♠], [K♠, 8♣]]"
      ]
     },
     "execution_count": 462,
     "metadata": {},
     "output_type": "execute_result"
    }
   ],
   "source": [
    "test.splits"
   ]
  },
  {
   "cell_type": "code",
   "execution_count": 776,
   "metadata": {},
   "outputs": [
    {
     "data": {
      "text/plain": [
       "[K♠, 7♦]"
      ]
     },
     "execution_count": 776,
     "metadata": {},
     "output_type": "execute_result"
    }
   ],
   "source": [
    "test.player.items"
   ]
  },
  {
   "cell_type": "code",
   "execution_count": 720,
   "metadata": {},
   "outputs": [
    {
     "data": {
      "text/plain": [
       "12"
      ]
     },
     "execution_count": 720,
     "metadata": {},
     "output_type": "execute_result"
    }
   ],
   "source": [
    "value(test.player)"
   ]
  },
  {
   "cell_type": "code",
   "execution_count": 555,
   "metadata": {},
   "outputs": [],
   "source": [
    "test.double()"
   ]
  },
  {
   "cell_type": "code",
   "execution_count": 836,
   "metadata": {},
   "outputs": [],
   "source": [
    "test.play_strategy()"
   ]
  },
  {
   "cell_type": "code",
   "execution_count": 689,
   "metadata": {},
   "outputs": [
    {
     "data": {
      "text/plain": [
       "1"
      ]
     },
     "execution_count": 689,
     "metadata": {},
     "output_type": "execute_result"
    }
   ],
   "source": [
    "test.win"
   ]
  },
  {
   "cell_type": "code",
   "execution_count": 643,
   "metadata": {},
   "outputs": [
    {
     "data": {
      "text/plain": [
       "-1"
      ]
     },
     "execution_count": 643,
     "metadata": {},
     "output_type": "execute_result"
    }
   ],
   "source": [
    "value(test.player)"
   ]
  },
  {
   "cell_type": "code",
   "execution_count": 1207,
   "metadata": {},
   "outputs": [
    {
     "name": "stdout",
     "output_type": "stream",
     "text": [
      "[2♣, 3♥, J♥, 7♥]\n",
      "[T♦, 9♠]\n",
      "1\n",
      "[-1]\n"
     ]
    }
   ],
   "source": [
    "test = Game(shoe,1)\n",
    "test.get_cards()\n",
    "test.play_strategy()\n",
    "print(test.player)\n",
    "print(test.dealer)\n",
    "print(test.bet)\n",
    "print(test.payout)"
   ]
  },
  {
   "cell_type": "code",
   "execution_count": 1216,
   "metadata": {},
   "outputs": [
    {
     "name": "stdout",
     "output_type": "stream",
     "text": [
      "[J♠, 2♠]\n",
      "[Q♦, A♥]\n",
      "[]\n"
     ]
    }
   ],
   "source": [
    "test = Game(shoe,1)\n",
    "test.get_cards()\n",
    "print(test.player)\n",
    "print(test.dealer)\n",
    "print(test.win)"
   ]
  },
  {
   "cell_type": "code",
   "execution_count": 1189,
   "metadata": {},
   "outputs": [],
   "source": [
    "test.player = Cards('5h/6c')"
   ]
  },
  {
   "cell_type": "code",
   "execution_count": 1217,
   "metadata": {},
   "outputs": [
    {
     "name": "stdout",
     "output_type": "stream",
     "text": [
      "[J♠, 2♠]\n",
      "[Q♦, A♥]\n",
      "1\n",
      "[0]\n",
      "[-1]\n"
     ]
    }
   ],
   "source": [
    "test.play_strategy()\n",
    "print(test.player)\n",
    "print(test.dealer)\n",
    "print(test.bet)\n",
    "print(test.win)\n",
    "print(test.payout)"
   ]
  },
  {
   "cell_type": "code",
   "execution_count": 1220,
   "metadata": {},
   "outputs": [
    {
     "data": {
      "text/plain": [
       "1"
      ]
     },
     "execution_count": 1220,
     "metadata": {},
     "output_type": "execute_result"
    }
   ],
   "source": [
    "test.total_bet"
   ]
  },
  {
   "cell_type": "code",
   "execution_count": 907,
   "metadata": {},
   "outputs": [
    {
     "data": {
      "text/plain": [
       "False"
      ]
     },
     "execution_count": 907,
     "metadata": {},
     "output_type": "execute_result"
    }
   ],
   "source": [
    "value(test.player).blackjack"
   ]
  },
  {
   "cell_type": "code",
   "execution_count": 981,
   "metadata": {},
   "outputs": [
    {
     "data": {
      "text/plain": [
       "[[2♥, 4♣, Q♠], [2♣, 3♥, 4♣, 6♣]]"
      ]
     },
     "execution_count": 981,
     "metadata": {},
     "output_type": "execute_result"
    }
   ],
   "source": [
    "test.splits"
   ]
  },
  {
   "cell_type": "code",
   "execution_count": 847,
   "metadata": {},
   "outputs": [
    {
     "name": "stdout",
     "output_type": "stream",
     "text": [
      "[2♣, 6♣, A♦]\n",
      "[2♠, A♠, 5♠]\n"
     ]
    }
   ],
   "source": [
    "print(test.player)\n",
    "print(test.dealer)"
   ]
  },
  {
   "cell_type": "code",
   "execution_count": 1267,
   "metadata": {},
   "outputs": [],
   "source": [
    "def table(num_decks, num_games):\n",
    "    pay = []\n",
    "    wins = []\n",
    "    shoe = Shoe(num_decks)\n",
    "    length = len(str(shoe))\n",
    "    total_bet = 0\n",
    "    count = {}\n",
    "    for _ in range(num_games):\n",
    "        x = Game(shoe, 1)\n",
    "        x.get_cards()\n",
    "        x.play_strategy()\n",
    "        pay += x.payout\n",
    "        wins += x.win\n",
    "        total_bet += x.total_bet\n",
    "        if len(str(shoe)) < (2*length/3):\n",
    "            shoe = Shoe(num_decks)\n",
    "#     print(sum(pay))\n",
    "#     print(total_bet)\n",
    "#     print(str(round(sum(pay)/total_bet*100,4)) + '%')\n",
    "#     print(str(sum(wins)) + '/' + str(len(wins)))\n",
    "    return round(sum(pay)/total_bet*100,4)"
   ]
  },
  {
   "cell_type": "code",
   "execution_count": 1289,
   "metadata": {},
   "outputs": [
    {
     "data": {
      "text/plain": [
       "-1.1411"
      ]
     },
     "execution_count": 1289,
     "metadata": {},
     "output_type": "execute_result"
    }
   ],
   "source": [
    "table(8,100000)"
   ]
  },
  {
   "cell_type": "code",
   "execution_count": 1290,
   "metadata": {},
   "outputs": [],
   "source": [
    "percentages = []\n",
    "for i in range(100):\n",
    "    percentages.append(table(8,1000))"
   ]
  },
  {
   "cell_type": "code",
   "execution_count": 1291,
   "metadata": {},
   "outputs": [
    {
     "data": {
      "text/plain": [
       "(array([ 4.,  4.,  8., 17., 16., 20., 12., 10.,  7.,  2.]),\n",
       " array([-8.3116 , -6.79882, -5.28604, -3.77326, -2.26048, -0.7477 ,\n",
       "         0.76508,  2.27786,  3.79064,  5.30342,  6.8162 ]),\n",
       " <a list of 10 Patch objects>)"
      ]
     },
     "execution_count": 1291,
     "metadata": {},
     "output_type": "execute_result"
    },
    {
     "data": {
      "image/png": "[encoded data removed]",
      "text/plain": [
       "<Figure size 432x288 with 1 Axes>"
      ]
     },
     "metadata": {
      "needs_background": "light"
     },
     "output_type": "display_data"
    }
   ],
   "source": [
    "plt.hist(percentages)"
   ]
  },
  {
   "cell_type": "code",
   "execution_count": 1292,
   "metadata": {},
   "outputs": [
    {
     "data": {
      "text/plain": [
       "-0.7984360000000001"
      ]
     },
     "execution_count": 1292,
     "metadata": {},
     "output_type": "execute_result"
    }
   ],
   "source": [
    "np.mean(percentages)"
   ]
  },
  {
   "cell_type": "code",
   "execution_count": 1293,
   "metadata": {},
   "outputs": [
    {
     "data": {
      "text/plain": [
       "-0.7055"
      ]
     },
     "execution_count": 1293,
     "metadata": {},
     "output_type": "execute_result"
    }
   ],
   "source": [
    "np.median(percentages)"
   ]
  },
  {
   "cell_type": "code",
   "execution_count": null,
   "metadata": {},
   "outputs": [],
   "source": []
  }
 ],
 "metadata": {
  "kernelspec": {
   "display_name": "Python 3",
   "language": "python",
   "name": "python3"
  },
  "language_info": {
   "codemirror_mode": {
    "name": "ipython",
    "version": 3
   },
   "file_extension": ".py",
   "mimetype": "text/x-python",
   "name": "python",
   "nbconvert_exporter": "python",
   "pygments_lexer": "ipython3",
   "version": "3.6.7"
  }
 },
 "nbformat": 4,
 "nbformat_minor": 2
}
